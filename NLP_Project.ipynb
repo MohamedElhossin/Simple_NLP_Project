{
  "nbformat": 4,
  "nbformat_minor": 0,
  "metadata": {
    "colab": {
      "name": "NLP_Project.ipynb",
      "provenance": [],
      "toc_visible": true,
      "include_colab_link": true
    },
    "kernelspec": {
      "name": "python3",
      "display_name": "Python 3"
    },
    "accelerator": "GPU"
  },
  "cells": [
    {
      "cell_type": "markdown",
      "metadata": {
        "id": "view-in-github",
        "colab_type": "text"
      },
      "source": [
        "<a href=\"https://colab.research.google.com/github/MohamedElhossin/Simple_NLP_Project/blob/master/NLP_Project.ipynb\" target=\"_parent\"><img src=\"https://colab.research.google.com/assets/colab-badge.svg\" alt=\"Open In Colab\"/></a>"
      ]
    },
    {
      "cell_type": "code",
      "metadata": {
        "id": "gj34A3eWicey",
        "colab_type": "code",
        "colab": {}
      },
      "source": [
        "import pandas as pd\n",
        "%matplotlib inline\n",
        "import matplotlib.pyplot as plt\n",
        "import seaborn as sns\n",
        "import matplotlib.pyplot as plt; plt.rcdefaults()\n",
        "import numpy as np\n",
        "sns.set_style('darkgrid')\n",
        "sns.set(font_scale=1.5)"
      ],
      "execution_count": null,
      "outputs": []
    },
    {
      "cell_type": "code",
      "metadata": {
        "id": "uFK9WOoYi8pH",
        "colab_type": "code",
        "colab": {}
      },
      "source": [
        "# Read data \n",
        "dataset_df = pd.read_excel('Dataset.xlsx')\n",
        "\n",
        "# Get the dataset columns and convert it to lower case  \n",
        "dataset_df.columns = [col.lower() for col in dataset_df]\n",
        "#-->print(dataset_df.columns)\n",
        "\n",
        "# Rename the columns full text reviews and tittle of reviews\n",
        "dataset_df.rename(columns={\n",
        "        'full text reviews ': 'full text reviews', \n",
        "        'title of reviews ': 'title of reviews'\n",
        "    }, inplace=True)\n",
        "#-->print(dataset_df.columns)\n",
        "\n"
      ],
      "execution_count": null,
      "outputs": []
    },
    {
      "cell_type": "code",
      "metadata": {
        "id": "6iugv6J6mo3M",
        "colab_type": "code",
        "colab": {
          "base_uri": "https://localhost:8080/",
          "height": 105
        },
        "outputId": "416a70c4-fcd8-474b-deed-bc0127115aaa"
      },
      "source": [
        "# Seprate the last columns \n",
        "reviews_df = dataset_df.iloc[:,[2,3,4]]\n",
        "#-->print(reviews_df .columns)\n",
        "\n",
        "#check the null values\n",
        "#-->print(reviews_df.isnull().sum())\n",
        "\n",
        "#drop the null values and rest the index \n",
        "reviews_df.dropna(inplace= True)\n",
        "reviews_df.reset_index(drop=True, inplace=True)\n",
        "#-->print(reviews_df.isnull().sum())\n",
        "\n"
      ],
      "execution_count": null,
      "outputs": [
        {
          "output_type": "stream",
          "text": [
            "/usr/local/lib/python3.6/dist-packages/ipykernel_launcher.py:8: SettingWithCopyWarning: \n",
            "A value is trying to be set on a copy of a slice from a DataFrame\n",
            "\n",
            "See the caveats in the documentation: http://pandas.pydata.org/pandas-docs/stable/user_guide/indexing.html#returning-a-view-versus-a-copy\n",
            "  \n"
          ],
          "name": "stderr"
        }
      ]
    },
    {
      "cell_type": "code",
      "metadata": {
        "id": "IHIhGsNH2t4X",
        "colab_type": "code",
        "colab": {
          "base_uri": "https://localhost:8080/",
          "height": 123
        },
        "outputId": "4c2920ef-1ce2-4c99-8028-5e23be605bfd"
      },
      "source": [
        "# label the reviews is good or bad \n",
        "# good when rating of reviews > 3 \n",
        "# bad when rating reviews <= 3\n",
        "\n",
        "reviews_df[\"is good review\"] = reviews_df[\"rating of reviews\"].apply(lambda x: 1 if x > 3 else 0)\n",
        "#-->print(reviews_df.head(10))\n",
        "\n",
        "\n"
      ],
      "execution_count": null,
      "outputs": [
        {
          "output_type": "stream",
          "text": [
            "/usr/local/lib/python3.6/dist-packages/ipykernel_launcher.py:2: SettingWithCopyWarning: \n",
            "A value is trying to be set on a copy of a slice from a DataFrame.\n",
            "Try using .loc[row_indexer,col_indexer] = value instead\n",
            "\n",
            "See the caveats in the documentation: http://pandas.pydata.org/pandas-docs/stable/user_guide/indexing.html#returning-a-view-versus-a-copy\n",
            "  \n"
          ],
          "name": "stderr"
        }
      ]
    },
    {
      "cell_type": "code",
      "metadata": {
        "id": "krAjnbHyxDas",
        "colab_type": "code",
        "colab": {
          "base_uri": "https://localhost:8080/",
          "height": 70
        },
        "outputId": "39d95616-e3a9-4293-c09b-bd7a3bd387c9"
      },
      "source": [
        "#Get the count of good review\n",
        "# if 1 is good\n",
        "# else is bad \n",
        "reviews_df[\"is good review\"].value_counts()"
      ],
      "execution_count": null,
      "outputs": [
        {
          "output_type": "execute_result",
          "data": {
            "text/plain": [
              "1    1072\n",
              "0     120\n",
              "Name: is good review, dtype: int64"
            ]
          },
          "metadata": {
            "tags": []
          },
          "execution_count": 48
        }
      ]
    },
    {
      "cell_type": "code",
      "metadata": {
        "id": "l7oss-4JwqgG",
        "colab_type": "code",
        "colab": {
          "base_uri": "https://localhost:8080/",
          "height": 267
        },
        "outputId": "d4069028-7331-4573-81c0-bc5b27b748ab"
      },
      "source": [
        "# represent  the percentage of good/bad reviews  \n",
        "labels = 'Good', 'Bad'\n",
        "sizes = [1072, 120,]\n",
        "colors = ['lightskyblue','lightcoral']\n",
        "explode = (0.2, 0)  # explode 1st slice\n",
        "\n",
        "# Plot\n",
        "plt.pie(sizes, explode=explode, labels=labels, colors=colors,\n",
        "autopct='%1.1f%%', shadow=True, startangle=45)\n",
        "plt.title('Classification of full reviews')\n",
        "\n",
        "plt.axis('equal')\n",
        "plt.show()"
      ],
      "execution_count": null,
      "outputs": [
        {
          "output_type": "display_data",
          "data": {
            "image/png": "[encoded data removed]",
            "text/plain": [
              "<Figure size 432x288 with 1 Axes>"
            ]
          },
          "metadata": {
            "tags": []
          }
        }
      ]
    },
    {
      "cell_type": "code",
      "metadata": {
        "id": "vv_hEnz85kkC",
        "colab_type": "code",
        "colab": {}
      },
      "source": [
        "# Clean the data \n",
        "# lower the text\n",
        "# tokenize the text (split the text into words) and remove the punctuation\n",
        "# remove useless words that contain numbers\n",
        "# remove useless stop words like ‘the’, ‘a’ ,’this’ etc.\n",
        "# Part-Of-Speech (POS) tagging: assign a tag to every word to define \n",
        "# if it corresponds to a noun, a verb etc. using the WordNet lexical database\n",
        "# lemmatize the text: transform every word into their root form \n",
        "\n",
        "from nltk.corpus import wordnet\n",
        "\n",
        "def get_wordnet_pos(pos_tag):\n",
        "    if pos_tag.startswith('J'):\n",
        "        return wordnet.ADJ\n",
        "    elif pos_tag.startswith('V'):\n",
        "        return wordnet.VERB\n",
        "    elif pos_tag.startswith('N'):\n",
        "        return wordnet.NOUN\n",
        "    elif pos_tag.startswith('R'):\n",
        "        return wordnet.ADV\n",
        "    else:\n",
        "        return wordnet.NOUN\n",
        "        "
      ],
      "execution_count": null,
      "outputs": []
    },
    {
      "cell_type": "code",
      "metadata": {
        "id": "kqC6HEyZC_hc",
        "colab_type": "code",
        "colab": {
          "base_uri": "https://localhost:8080/",
          "height": 52
        },
        "outputId": "d0d3a2a9-08c6-4b7d-9769-e3fe2e2f4e40"
      },
      "source": [
        "# install the nltk \n",
        "pip install nltk"
      ],
      "execution_count": null,
      "outputs": [
        {
          "output_type": "stream",
          "text": [
            "Requirement already satisfied: nltk in /usr/local/lib/python3.6/dist-packages (3.2.5)\n",
            "Requirement already satisfied: six in /usr/local/lib/python3.6/dist-packages (from nltk) (1.12.0)\n"
          ],
          "name": "stdout"
        }
      ]
    },
    {
      "cell_type": "code",
      "metadata": {
        "id": "B_j9-qZ2Cr2P",
        "colab_type": "code",
        "colab": {
          "base_uri": "https://localhost:8080/",
          "height": 247
        },
        "outputId": "02054973-1727-4b1a-c872-f96141b9fc2d"
      },
      "source": [
        "# download the needed package \n",
        "import nltk\n",
        "nltk.download('averaged_perceptron_tagger')\n",
        "nltk.download('wordnet')\n",
        "nltk.download('stopwords')\n",
        "nltk.download('vader_lexicon')\n",
        "nltk.download('punkt')"
      ],
      "execution_count": null,
      "outputs": [
        {
          "output_type": "stream",
          "text": [
            "[nltk_data] Downloading package averaged_perceptron_tagger to\n",
            "[nltk_data]     /root/nltk_data...\n",
            "[nltk_data]   Package averaged_perceptron_tagger is already up-to-\n",
            "[nltk_data]       date!\n",
            "[nltk_data] Downloading package wordnet to /root/nltk_data...\n",
            "[nltk_data]   Package wordnet is already up-to-date!\n",
            "[nltk_data] Downloading package stopwords to /root/nltk_data...\n",
            "[nltk_data]   Package stopwords is already up-to-date!\n",
            "[nltk_data] Downloading package vader_lexicon to /root/nltk_data...\n",
            "[nltk_data]   Package vader_lexicon is already up-to-date!\n",
            "[nltk_data] Downloading package punkt to /root/nltk_data...\n",
            "[nltk_data]   Package punkt is already up-to-date!\n"
          ],
          "name": "stdout"
        },
        {
          "output_type": "execute_result",
          "data": {
            "text/plain": [
              "True"
            ]
          },
          "metadata": {
            "tags": []
          },
          "execution_count": 31
        }
      ]
    },
    {
      "cell_type": "code",
      "metadata": {
        "id": "0Rx2f44Y6m8w",
        "colab_type": "code",
        "colab": {}
      },
      "source": [
        "import string\n",
        "from nltk import pos_tag\n",
        "from nltk.corpus import stopwords\n",
        "from nltk.tokenize import WhitespaceTokenizer\n",
        "from nltk.stem import WordNetLemmatizer\n",
        "\n",
        "def clean_text(text):\n",
        "    # lower text\n",
        "    text = text.lower()\n",
        "    # tokenize text and remove puncutation\n",
        "    text = [word.strip(string.punctuation) for word in text.split(\" \")]\n",
        "    # remove words that contain numbers\n",
        "    text = [word for word in text if not any(c.isdigit() for c in word)]\n",
        "    # remove stop words\n",
        "    stop = stopwords.words('english')\n",
        "    text = [x for x in text if x not in stop]\n",
        "    # remove empty tokens\n",
        "    text = [t for t in text if len(t) > 0]\n",
        "    # pos tag text\n",
        "    pos_tags = pos_tag(text)\n",
        "    # lemmatize text\n",
        "    text = [WordNetLemmatizer().lemmatize(t[0], get_wordnet_pos(t[1])) for t in pos_tags]\n",
        "    # remove words with only one letter\n",
        "    text = [t for t in text if len(t) > 1]\n",
        "    # join all\n",
        "    text = \" \".join(text)\n",
        "    return(text)"
      ],
      "execution_count": null,
      "outputs": []
    },
    {
      "cell_type": "code",
      "metadata": {
        "id": "HKh49vin7m1M",
        "colab_type": "code",
        "colab": {
          "base_uri": "https://localhost:8080/",
          "height": 123
        },
        "outputId": "8a337fc2-def4-4b5d-8b25-477ab6c86621"
      },
      "source": [
        "# call clean_text method \n",
        "reviews_df[\"reviews clean\"] = reviews_df[\"full text reviews\"].apply(lambda x: clean_text(x))\n",
        "#-->print(reviews_df.head(10))"
      ],
      "execution_count": null,
      "outputs": [
        {
          "output_type": "stream",
          "text": [
            "/usr/local/lib/python3.6/dist-packages/ipykernel_launcher.py:1: SettingWithCopyWarning: \n",
            "A value is trying to be set on a copy of a slice from a DataFrame.\n",
            "Try using .loc[row_indexer,col_indexer] = value instead\n",
            "\n",
            "See the caveats in the documentation: http://pandas.pydata.org/pandas-docs/stable/user_guide/indexing.html#returning-a-view-versus-a-copy\n",
            "  \"\"\"Entry point for launching an IPython kernel.\n"
          ],
          "name": "stderr"
        }
      ]
    },
    {
      "cell_type": "code",
      "metadata": {
        "id": "3cyBPyIiDawM",
        "colab_type": "code",
        "colab": {
          "base_uri": "https://localhost:8080/",
          "height": 123
        },
        "outputId": "0c7501ad-6af1-4591-ce4a-d741fdaca743"
      },
      "source": [
        "# add sentiment anaylsis columns\n",
        "from nltk.sentiment.vader import SentimentIntensityAnalyzer\n",
        "\n",
        "sid = SentimentIntensityAnalyzer()\n",
        "reviews_df[\"sentiments\"] = reviews_df[\"full text reviews\"].apply(lambda x: sid.polarity_scores(x))\n",
        "reviews_df = pd.concat([reviews_df.drop(['sentiments'], axis=1), reviews_df['sentiments'].apply(pd.Series)], axis=1)\n",
        "\n"
      ],
      "execution_count": null,
      "outputs": [
        {
          "output_type": "stream",
          "text": [
            "/usr/local/lib/python3.6/dist-packages/ipykernel_launcher.py:4: SettingWithCopyWarning: \n",
            "A value is trying to be set on a copy of a slice from a DataFrame.\n",
            "Try using .loc[row_indexer,col_indexer] = value instead\n",
            "\n",
            "See the caveats in the documentation: http://pandas.pydata.org/pandas-docs/stable/user_guide/indexing.html#returning-a-view-versus-a-copy\n",
            "  after removing the cwd from sys.path.\n"
          ],
          "name": "stderr"
        }
      ]
    },
    {
      "cell_type": "code",
      "metadata": {
        "id": "Xdf3kOF54eSJ",
        "colab_type": "code",
        "colab": {
          "base_uri": "https://localhost:8080/",
          "height": 267
        },
        "outputId": "b007f805-ac35-423b-c849-05773c7f7a5d"
      },
      "source": [
        "labels = 'neutral', 'Good/bad'\n",
        "sizes = [243, 949]\n",
        "colors = ['lightskyblue','yellowgreen']\n",
        "explode = (0.2, 0)  # explode 1st slice\n",
        "\n",
        "# Plot\n",
        "plt.pie(sizes, explode=explode, labels=labels, colors=colors,\n",
        "autopct='%1.1f%%', shadow=True, startangle=140)\n",
        "plt.title('Sentiment Analyzer Calssification')\n",
        "\n",
        "plt.axis('equal')\n",
        "plt.show()"
      ],
      "execution_count": null,
      "outputs": [
        {
          "output_type": "display_data",
          "data": {
            "image/png": "[encoded data removed]",
            "text/plain": [
              "<Figure size 432x288 with 1 Axes>"
            ]
          },
          "metadata": {
            "tags": []
          }
        }
      ]
    },
    {
      "cell_type": "code",
      "metadata": {
        "id": "hwtUorerGvhp",
        "colab_type": "code",
        "colab": {
          "base_uri": "https://localhost:8080/",
          "height": 496
        },
        "outputId": "df6bd5d5-835f-4109-c0f6-85ace5dc454d"
      },
      "source": [
        "#Get the count of Good/bad review in neutral \n",
        "neu_count = reviews_df[reviews_df['neu'] > 0.8]\n",
        "neu_count.reset_index(drop= True, inplace=True)\n",
        "\n",
        "for i in range (243):\n",
        "    if (neu_count['neg'][i] > neu_count['pos'][i]):\n",
        "      neu_count['is predict review'][i] = 0\n",
        "    else:\n",
        "        neu_count['is predict review'][i] = 1  \n",
        "\n",
        "neu_count['is predict review'].value_counts\n"
      ],
      "execution_count": null,
      "outputs": [
        {
          "output_type": "stream",
          "text": [
            "/usr/local/lib/python3.6/dist-packages/ipykernel_launcher.py:8: SettingWithCopyWarning: \n",
            "A value is trying to be set on a copy of a slice from a DataFrame\n",
            "\n",
            "See the caveats in the documentation: http://pandas.pydata.org/pandas-docs/stable/user_guide/indexing.html#returning-a-view-versus-a-copy\n",
            "  \n",
            "/usr/local/lib/python3.6/dist-packages/IPython/core/interactiveshell.py:2882: SettingWithCopyWarning: \n",
            "A value is trying to be set on a copy of a slice from a DataFrame\n",
            "\n",
            "See the caveats in the documentation: http://pandas.pydata.org/pandas-docs/stable/user_guide/indexing.html#returning-a-view-versus-a-copy\n",
            "  exec(code_obj, self.user_global_ns, self.user_ns)\n",
            "/usr/local/lib/python3.6/dist-packages/ipykernel_launcher.py:6: SettingWithCopyWarning: \n",
            "A value is trying to be set on a copy of a slice from a DataFrame\n",
            "\n",
            "See the caveats in the documentation: http://pandas.pydata.org/pandas-docs/stable/user_guide/indexing.html#returning-a-view-versus-a-copy\n",
            "  \n"
          ],
          "name": "stderr"
        },
        {
          "output_type": "execute_result",
          "data": {
            "text/plain": [
              "<bound method IndexOpsMixin.value_counts of 0      1\n",
              "1      1\n",
              "2      1\n",
              "3      1\n",
              "4      1\n",
              "      ..\n",
              "238    1\n",
              "239    1\n",
              "240    0\n",
              "241    1\n",
              "242    0\n",
              "Name: is predict review, Length: 243, dtype: int64>"
            ]
          },
          "metadata": {
            "tags": []
          },
          "execution_count": 90
        }
      ]
    },
    {
      "cell_type": "code",
      "metadata": {
        "id": "Av-TUWIpG0FP",
        "colab_type": "code",
        "colab": {
          "base_uri": "https://localhost:8080/",
          "height": 267
        },
        "outputId": "a998c4a0-036c-439a-f274-6cdf258e0cba"
      },
      "source": [
        "labels = 'Good', 'Bad'\n",
        "sizes = [204, 39]\n",
        "colors = ['lightskyblue','lightcoral']\n",
        "explode = (0.2, 0)  # explode 1st slice\n",
        "\n",
        "# Plot\n",
        "plt.pie(sizes, explode=explode, labels=labels, colors=colors,\n",
        "autopct='%1.1f%%', shadow=True, startangle=45)\n",
        "plt.title('Classification of Neutral')\n",
        "\n",
        "plt.axis('equal')\n",
        "plt.show()"
      ],
      "execution_count": null,
      "outputs": [
        {
          "output_type": "display_data",
          "data": {
            "image/png": "[encoded data removed]",
            "text/plain": [
              "<Figure size 432x288 with 1 Axes>"
            ]
          },
          "metadata": {
            "tags": []
          }
        }
      ]
    },
    {
      "cell_type": "code",
      "metadata": {
        "id": "HNVV2MbHDCCW",
        "colab_type": "code",
        "colab": {}
      },
      "source": [
        "# add new columns with zero value\n",
        "reviews_df['is predict review'] = 0\n"
      ],
      "execution_count": null,
      "outputs": []
    },
    {
      "cell_type": "code",
      "metadata": {
        "id": "hQHji6kM8uoh",
        "colab_type": "code",
        "colab": {}
      },
      "source": [
        "# create method to fell predict column \n",
        "# set 0 if negative > postive and neutral < 0.9\n",
        "# else 1\n",
        "def fell_predict(data):\n",
        "  for i in range (1192):\n",
        "    if (data['neg'][i] > data['pos'][i]) & (data['neu'][i] < 0.9):\n",
        "      data['is predict review'][i] = 0\n",
        "    else:\n",
        "        data['is predict review'][i] = 1  \n",
        "     \n",
        "  return data \n",
        "    "
      ],
      "execution_count": null,
      "outputs": []
    },
    {
      "cell_type": "code",
      "metadata": {
        "id": "mOvOzrnSyyLx",
        "colab_type": "code",
        "colab": {
          "base_uri": "https://localhost:8080/",
          "height": 247
        },
        "outputId": "22b789f3-f998-4ef7-ebeb-fc549ec458e7"
      },
      "source": [
        "#call fell_predict methods\n",
        "reviews_df = fell_predict(reviews_df)\n",
        "reviews_df['is predict review'].value_counts()"
      ],
      "execution_count": null,
      "outputs": [
        {
          "output_type": "stream",
          "text": [
            "/usr/local/lib/python3.6/dist-packages/ipykernel_launcher.py:7: SettingWithCopyWarning: \n",
            "A value is trying to be set on a copy of a slice from a DataFrame\n",
            "\n",
            "See the caveats in the documentation: http://pandas.pydata.org/pandas-docs/stable/user_guide/indexing.html#returning-a-view-versus-a-copy\n",
            "  import sys\n",
            "/usr/local/lib/python3.6/dist-packages/ipykernel_launcher.py:5: SettingWithCopyWarning: \n",
            "A value is trying to be set on a copy of a slice from a DataFrame\n",
            "\n",
            "See the caveats in the documentation: http://pandas.pydata.org/pandas-docs/stable/user_guide/indexing.html#returning-a-view-versus-a-copy\n",
            "  \"\"\"\n"
          ],
          "name": "stderr"
        },
        {
          "output_type": "execute_result",
          "data": {
            "text/plain": [
              "1    1079\n",
              "0     113\n",
              "Name: is predict review, dtype: int64"
            ]
          },
          "metadata": {
            "tags": []
          },
          "execution_count": 74
        }
      ]
    },
    {
      "cell_type": "code",
      "metadata": {
        "id": "MuXLY85_DSOR",
        "colab_type": "code",
        "colab": {
          "base_uri": "https://localhost:8080/",
          "height": 267
        },
        "outputId": "051d330c-b519-49f6-910a-b4ee5cde2278"
      },
      "source": [
        "labels = 'Good', 'Bad'\n",
        "sizes = [1079, 113]\n",
        "colors = ['lightskyblue','lightcoral']\n",
        "explode = (0.2, 0)  # explode 1st slice\n",
        "\n",
        "# Plot\n",
        "plt.pie(sizes, explode=explode, labels=labels, colors=colors,\n",
        "autopct='%1.1f%%', shadow=True, startangle=45)\n",
        "plt.title('Sentiment Analyzer Calssification')\n",
        "\n",
        "plt.axis('equal')\n",
        "plt.show()"
      ],
      "execution_count": null,
      "outputs": [
        {
          "output_type": "display_data",
          "data": {
            "image/png": "[encoded data removed]",
            "text/plain": [
              "<Figure size 432x288 with 1 Axes>"
            ]
          },
          "metadata": {
            "tags": []
          }
        }
      ]
    },
    {
      "cell_type": "code",
      "metadata": {
        "id": "GczgP9XzKlpK",
        "colab_type": "code",
        "colab": {
          "base_uri": "https://localhost:8080/",
          "height": 34
        },
        "outputId": "a1c87649-68a5-4304-8bb0-001c8a5dad80"
      },
      "source": [
        "#calculate the accuracy of SentimentIntensityAnalyzer model \n",
        "# compar between our classification and classification SentimentIntensityAnalyzer model \n",
        "count = 0\n",
        "for i in range (1192):\n",
        "    if reviews_df['is predict review'][i] == reviews_df['is good review'][i]:\n",
        "      count = count + 1  \n",
        "\n",
        "#-->print(count)\n",
        "print(\"the accuracy of of s \", ( (count / 1192) * 100 ))    "
      ],
      "execution_count": null,
      "outputs": [
        {
          "output_type": "stream",
          "text": [
            "the accuracy of of s  87.83557046979867\n"
          ],
          "name": "stdout"
        }
      ]
    },
    {
      "cell_type": "code",
      "metadata": {
        "id": "1RkH9myyOSf7",
        "colab_type": "code",
        "colab": {}
      },
      "source": [
        "#get the most comman word in bad reviews\n",
        "import numpy as np\n",
        "bad = reviews_df[reviews_df['is predict review'] == 0]\n",
        "bad1 = bad['reviews clean']\n",
        "bad1 = bad1.to_numpy()\n",
        "word = np.array_str(bad1)"
      ],
      "execution_count": null,
      "outputs": []
    },
    {
      "cell_type": "code",
      "metadata": {
        "id": "SgINfVz7PPr8",
        "colab_type": "code",
        "colab": {}
      },
      "source": [
        "from nltk import FreqDist\n",
        "words = nltk.tokenize.word_tokenize(word)\n",
        "fdist2 = FreqDist(words)"
      ],
      "execution_count": null,
      "outputs": []
    },
    {
      "cell_type": "code",
      "metadata": {
        "id": "K4dRIj67P-3o",
        "colab_type": "code",
        "colab": {
          "base_uri": "https://localhost:8080/",
          "height": 905
        },
        "outputId": "f9d8e24f-7016-44d2-ac04-ad6b4b83f78d"
      },
      "source": [
        "fdist2.most_common(50)"
      ],
      "execution_count": null,
      "outputs": [
        {
          "output_type": "execute_result",
          "data": {
            "text/plain": [
              "[('food', 35),\n",
              " ('bottle', 31),\n",
              " ('``', 27),\n",
              " (\"''\", 27),\n",
              " ('go', 25),\n",
              " (\"'s\", 24),\n",
              " ('like', 23),\n",
              " ('taste', 22),\n",
              " ('try', 21),\n",
              " ('bitter', 20),\n",
              " ('drink', 17),\n",
              " ('price', 15),\n",
              " ('year', 15),\n",
              " ('i', 14),\n",
              " ('black', 14),\n",
              " ('make', 13),\n",
              " ('find', 12),\n",
              " ('mix', 12),\n",
              " ('good', 11),\n",
              " ('sweet', 11),\n",
              " ('would', 10),\n",
              " ('cherry', 10),\n",
              " ('jim', 10),\n",
              " ('come', 9),\n",
              " ('well', 9),\n",
              " ('...', 9),\n",
              " ('ever', 9),\n",
              " ('store', 9),\n",
              " ('even', 9),\n",
              " ('one', 9),\n",
              " ('dirty', 9),\n",
              " ('bad', 8),\n",
              " ('buy', 8),\n",
              " ('time', 8),\n",
              " ('product', 8),\n",
              " ('high', 8),\n",
              " ('give', 8),\n",
              " ('wish', 8),\n",
              " ('bean', 8),\n",
              " ('want', 8),\n",
              " ('first', 8),\n",
              " ('red', 8),\n",
              " ('stag', 8),\n",
              " ('coke', 8),\n",
              " ('start', 7),\n",
              " ('gift', 7),\n",
              " ('plastic', 7),\n",
              " ('use', 7),\n",
              " ('bar', 7),\n",
              " ('order', 7)]"
            ]
          },
          "metadata": {
            "tags": []
          },
          "execution_count": 41
        }
      ]
    },
    {
      "cell_type": "code",
      "metadata": {
        "id": "3iR9cqjODqVp",
        "colab_type": "code",
        "colab": {
          "base_uri": "https://localhost:8080/",
          "height": 272
        },
        "outputId": "906f6eac-02ab-493c-e0c1-c30de4034444"
      },
      "source": [
        "labels = 'Food', 'Drink','Other'\n",
        "sizes = [35, 31,45]\n",
        "colors = ['lightskyblue','lightcoral', 'gold']\n",
        "explode = (0.1, 0.1, 0.0)  # explode 1st slice\n",
        "\n",
        "# Plot\n",
        "plt.pie(sizes, explode=explode, labels=labels, colors=colors,\n",
        "autopct='%1.1f%%', shadow=True, startangle=90)\n",
        "plt.title('Most comman words in bad reviews')\n",
        "\n",
        "plt.axis('equal')\n",
        "plt.show()"
      ],
      "execution_count": null,
      "outputs": [
        {
          "output_type": "display_data",
          "data": {
            "image/png": "[encoded data removed]",
            "text/plain": [
              "<Figure size 432x288 with 1 Axes>"
            ]
          },
          "metadata": {
            "tags": []
          }
        }
      ]
    }
  ]
}